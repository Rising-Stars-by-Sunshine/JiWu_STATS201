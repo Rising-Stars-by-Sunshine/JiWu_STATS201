{
 "cells": [
  {
   "cell_type": "markdown",
   "id": "30befdeb",
   "metadata": {},
   "source": [
    "# Exploratory Data Analysis (EDA) on Emergy Metabolism Dataset"
   ]
  },
  {
   "cell_type": "markdown",
   "id": "001daa2d",
   "metadata": {},
   "source": [
    "\n",
    "This Jupyter Notebook performs basic Exploratory Data Analysis (EDA) on the Emergy Metabolism dataset for China's cities between 2000 and 2020.\n"
   ]
  },
  {
   "cell_type": "code",
   "execution_count": null,
   "id": "f7dcdbc2",
   "metadata": {},
   "outputs": [],
   "source": [
    "\n",
    "import pandas as pd\n",
    "import numpy as np\n",
    "import matplotlib.pyplot as plt\n",
    "import seaborn as sns\n"
   ]
  },
  {
   "cell_type": "markdown",
   "id": "fc744215",
   "metadata": {},
   "source": [
    "\n",
    "## Loading the dataset\n"
   ]
  },
  {
   "cell_type": "code",
   "execution_count": null,
   "id": "f19defcb",
   "metadata": {},
   "outputs": [],
   "source": [
    "\n",
    "# Load the Emergy Metabolism dataset\n",
    "df = pd.read_excel('data/Emergy flows of 281 China's cities 2000-2020.xlsx)\n",
    "\n",
    "# Display the first few rows of the dataset\n",
    "df.head()\n"
   ]
  },
  {
   "cell_type": "markdown",
   "id": "bc0bbbc8",
   "metadata": {},
   "source": [
    "\n",
    "## Basic Data Information\n"
   ]
  },
  {
   "cell_type": "code",
   "execution_count": null,
   "id": "e996c598",
   "metadata": {},
   "outputs": [],
   "source": [
    "\n",
    "# Checking data types and missing values\n",
    "df.info()\n",
    "\n",
    "# Basic statistical summary of numerical features\n",
    "df.describe()\n"
   ]
  },
  {
   "cell_type": "markdown",
   "id": "37ddb51f",
   "metadata": {},
   "source": [
    "\n",
    "## Visualizing Missing Data\n"
   ]
  },
  {
   "cell_type": "code",
   "execution_count": null,
   "id": "3e79d3e7",
   "metadata": {},
   "outputs": [],
   "source": [
    "\n",
    "# Plot missing data heatmap\n",
    "plt.figure(figsize=(10, 6))\n",
    "sns.heatmap(df.isnull(), cbar=False, cmap=\"viridis\")\n",
    "plt.title('Missing Data Heatmap')\n",
    "plt.show()\n"
   ]
  },
  {
   "cell_type": "markdown",
   "id": "d083e0e1",
   "metadata": {},
   "source": [
    "\n",
    "## Distribution of Variables\n"
   ]
  },
  {
   "cell_type": "code",
   "execution_count": null,
   "id": "11ec623e",
   "metadata": {},
   "outputs": [],
   "source": [
    "\n",
    "# Histogram of Emergy Flow\n",
    "plt.figure(figsize=(10, 6))\n",
    "df['Emergy Flow'].hist(bins=30)\n",
    "plt.title('Distribution of Emergy Flow')\n",
    "plt.xlabel('Emergy Flow (sej)')\n",
    "plt.ylabel('Frequency')\n",
    "plt.show()\n"
   ]
  },
  {
   "cell_type": "markdown",
   "id": "a0a42ede",
   "metadata": {},
   "source": [
    "\n",
    "## Relationship between Emergy Flow and Population\n"
   ]
  },
  {
   "cell_type": "code",
   "execution_count": null,
   "id": "f448a4ed",
   "metadata": {},
   "outputs": [],
   "source": [
    "\n",
    "# Scatter plot of Emergy Flow vs Population\n",
    "plt.figure(figsize=(10, 6))\n",
    "sns.scatterplot(data=df, x='Population', y='Emergy Flow')\n",
    "plt.title('Emergy Flow vs Population')\n",
    "plt.xlabel('Population')\n",
    "plt.ylabel('Emergy Flow (sej)')\n",
    "plt.show()\n"
   ]
  },
  {
   "cell_type": "markdown",
   "id": "7b76aae7",
   "metadata": {},
   "source": [
    "\n",
    "## Year-wise Trend of Emergy Flow\n"
   ]
  },
  {
   "cell_type": "code",
   "execution_count": null,
   "id": "ec265582",
   "metadata": {},
   "outputs": [],
   "source": [
    "\n",
    "# Plotting the year-wise trend of Emergy Flow\n",
    "plt.figure(figsize=(12, 6))\n",
    "df.groupby('Year')['Emergy Flow'].sum().plot()\n",
    "plt.title('Year-wise Trend of Emergy Flow')\n",
    "plt.xlabel('Year')\n",
    "plt.ylabel('Total Emergy Flow (sej)')\n",
    "plt.show()\n"
   ]
  },
  {
   "cell_type": "markdown",
   "id": "2707058f",
   "metadata": {},
   "source": [
    "\n",
    "## Correlation Heatmap\n"
   ]
  },
  {
   "cell_type": "code",
   "execution_count": null,
   "id": "6746c37e",
   "metadata": {},
   "outputs": [],
   "source": [
    "\n",
    "# Correlation heatmap for numerical features\n",
    "plt.figure(figsize=(10, 6))\n",
    "sns.heatmap(df.corr(), annot=True, cmap='coolwarm')\n",
    "plt.title('Correlation Heatmap')\n",
    "plt.show()\n"
   ]
  },
  {
   "cell_type": "markdown",
   "id": "328736c3",
   "metadata": {},
   "source": [
    "\n",
    "## Conclusion\n",
    "\n",
    "This notebook gives an overview of the dataset, highlighting important trends and relationships. Further analysis can be performed based on specific research questions.\n"
   ]
  }
 ],
 "metadata": {},
 "nbformat": 4,
 "nbformat_minor": 5
}
